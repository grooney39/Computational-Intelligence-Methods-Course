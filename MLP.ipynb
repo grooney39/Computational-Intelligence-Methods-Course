{
 "cells": [
  {
   "cell_type": "markdown",
   "id": "b44c4b58",
   "metadata": {},
   "source": [
    "# MLP"
   ]
  },
  {
   "cell_type": "code",
   "execution_count": 1,
   "id": "6f01e449",
   "metadata": {},
   "outputs": [],
   "source": [
    "import numpy as np\n",
    "import pandas as pd\n",
    "import matplotlib.pyplot as plt\n",
    "from sklearn.metrics import mean_squared_error as mse\n",
    "from itertools import chain"
   ]
  },
  {
   "cell_type": "markdown",
   "id": "39e61456",
   "metadata": {},
   "source": [
    "## Definicja klasy MLP"
   ]
  },
  {
   "cell_type": "code",
   "execution_count": 2,
   "id": "040ec2b9",
   "metadata": {},
   "outputs": [],
   "source": [
    "class MLP:\n",
    "    def __init__(self, layers, activation, activation_derivative):\n",
    "        self.layers = layers\n",
    "        self.activation = activation\n",
    "        self.activation_derivative = activation_derivative\n",
    "        weights = []\n",
    "        for i in range(len(self.layers[:-1])):\n",
    "            weights.append([np.random.uniform(0, 1, (self.layers[i+1], self.layers[i])),\n",
    "                            np.random.uniform(0, 1, (self.layers[i+1], 1))])\n",
    "        self.weights = weights\n",
    "        self.weights_norms = []\n",
    "        self.biases_norms = []\n",
    "        \n",
    "    def forward(self, X):\n",
    "        self.inputs = []\n",
    "        Z = X.T\n",
    "        self.inputs.append(Z)\n",
    "\n",
    "        i = 1\n",
    "        for weights, biases in self.weights:\n",
    "            Z = np.dot(weights, Z) + biases\n",
    "            self.inputs.append(Z)\n",
    "            if i != len(self.weights):\n",
    "                Z = self.activation(Z)\n",
    "            i += 1\n",
    "        \n",
    "        return Z.T\n",
    "    \n",
    "    def backward(self, y, learning_rate, batch_size):\n",
    "        \n",
    "        dws = []\n",
    "        dbs = []\n",
    "        \n",
    "        y_pred = self.inputs[-1]\n",
    "        self.inputs = self.inputs[:-1]\n",
    "        dA = y_pred - y\n",
    "             \n",
    "        for i in range(1, len(self.inputs)+1):\n",
    "            \n",
    "            Z = self.inputs[-i]\n",
    "            A = self.activation(Z)\n",
    "            \n",
    "            dw = -learning_rate * np.dot(dA, A.T)/batch_size\n",
    "            db = -learning_rate * np.sum(dA, axis=1, keepdims=True)/batch_size\n",
    "            \n",
    "            dws.append(dw)\n",
    "            dbs.append(db)\n",
    "            \n",
    "            W = self.weights[-i][0]\n",
    "            dA = np.dot(W.T, dA) * self.activation_derivative(Z)\n",
    "\n",
    "        for i in range(len(self.weights)):\n",
    "            self.weights[i][0] += dws[-i-1]\n",
    "            self.weights[i][1] += dbs[-i-1] \n",
    "        \n",
    "        self.weights_norms.append([np.linalg.norm(w) for w in [self.weights[l][0] for l in range(len(self.layers)-1)]])\n",
    "        self.biases_norms.append([np.linalg.norm(b) for b in [self.weights[l][1] for l in range(len(self.layers)-1)]])\n",
    "            \n",
    "    def train(self, x_train, y_train, x_test, y_test, epochs, learning_rate, batch_size=None):\n",
    "        if batch_size == None:\n",
    "            batch_size = len(x_train)\n",
    "            \n",
    "        mse_train = []\n",
    "        mse_test = []\n",
    "        \n",
    "        for i in range(epochs):\n",
    "            p = np.random.permutation(len(x_train))\n",
    "            xp = x_train[p]\n",
    "            yp = y_train[p]\n",
    "            \n",
    "            for x_batch,y_batch in zip(self.create_batches(xp, batch_size), self.create_batches(yp, batch_size)):\n",
    "                self.predict(x_batch)\n",
    "                self.backward(y_batch.T, learning_rate, batch_size)\n",
    "        \n",
    "            y_train_pred = self.predict(x_train)\n",
    "            mse_train.append(mse(y_train_pred, y_train))\n",
    "            y_pred = self.predict(x_test)\n",
    "            mse_test.append(mse(y_pred, y_test))\n",
    "        \n",
    "        return mse_train, mse_test\n",
    "    \n",
    "    def create_batches(self, perm, n=1):\n",
    "        for ind in range(0, len(perm), n):\n",
    "            yield perm[ind:min(ind + n, len(perm))]\n",
    "            \n",
    "    def predict(self, x):\n",
    "        return self.forward(x)\n",
    "        \n",
    "def sigmoid(x):\n",
    "    return 1 / (1 + np.exp(-x))\n",
    "\n",
    "def sigmoid_derivative(x):\n",
    "    return sigmoid(x) * (1 - sigmoid(x))"
   ]
  },
  {
   "cell_type": "markdown",
   "id": "75429ad5",
   "metadata": {},
   "source": [
    "## Zbiór square-simple"
   ]
  },
  {
   "cell_type": "code",
   "execution_count": 3,
   "id": "719af959",
   "metadata": {},
   "outputs": [],
   "source": [
    "df_train = pd.read_csv('mio1/regression/square-simple-training.csv', index_col=0)\n",
    "x_train, y_train = np.array(df_train['x']).reshape(-1,1), np.array(df_train['y']).reshape(-1,1)\n",
    "\n",
    "df_test = pd.read_csv('mio1/regression/square-simple-test.csv', index_col=0)\n",
    "x_test, y_test = np.array(df_test['x']).reshape(-1,1), np.array(df_test['y']).reshape(-1,1)"
   ]
  },
  {
   "cell_type": "markdown",
   "id": "009c6a2c",
   "metadata": {},
   "source": [
    "#### Wizualizacja zbioru"
   ]
  },
  {
   "cell_type": "code",
   "execution_count": 4,
   "id": "6a650177",
   "metadata": {},
   "outputs": [
    {
     "data": {
      "text/plain": [
       "[<matplotlib.lines.Line2D at 0x250c05b5d90>]"
      ]
     },
     "execution_count": 4,
     "metadata": {},
     "output_type": "execute_result"
    },
    {
     "data": {
      "image/png": "[encoded data removed]",
      "text/plain": [
       "<Figure size 432x288 with 1 Axes>"
      ]
     },
     "metadata": {
      "needs_background": "light"
     },
     "output_type": "display_data"
    }
   ],
   "source": [
    "plt.plot(x_train, y_train, 'bo')"
   ]
  },
  {
   "cell_type": "markdown",
   "id": "2f105634",
   "metadata": {},
   "source": [
    "#### Treinng sieci"
   ]
  },
  {
   "cell_type": "code",
   "execution_count": 5,
   "id": "456fcf90",
   "metadata": {},
   "outputs": [],
   "source": [
    "np.random.seed(9)\n",
    "mlp = MLP([1,10,10,1], sigmoid, sigmoid_derivative)"
   ]
  },
  {
   "cell_type": "markdown",
   "id": "673d3081",
   "metadata": {},
   "source": [
    "Wersja z podziałem na batche (do momentu MSE<4):"
   ]
  },
  {
   "cell_type": "code",
   "execution_count": 6,
   "id": "9764c068",
   "metadata": {
    "scrolled": true
   },
   "outputs": [
    {
     "name": "stdout",
     "output_type": "stream",
     "text": [
      "1\n",
      "Train MSE:  9172.764941305266\n",
      "Test MSE:  7310.076040497877\n",
      "2\n",
      "Train MSE:  8788.580504214016\n",
      "Test MSE:  7048.5494722749445\n",
      "3\n",
      "Train MSE:  8568.590153459196\n",
      "Test MSE:  6931.823446844101\n",
      "4\n",
      "Train MSE:  8489.549043267818\n",
      "Test MSE:  6919.297911563502\n",
      "5\n",
      "Train MSE:  2635.176091865187\n",
      "Test MSE:  2001.9723004494806\n",
      "6\n",
      "Train MSE:  609.6839980880993\n",
      "Test MSE:  481.6167626089227\n",
      "7\n",
      "Train MSE:  42.561310587869784\n",
      "Test MSE:  46.050909856858695\n",
      "8\n",
      "Train MSE:  16.53475785741827\n",
      "Test MSE:  24.791404845014025\n",
      "9\n",
      "Train MSE:  8.617134607032623\n",
      "Test MSE:  15.372688288586446\n",
      "10\n",
      "Train MSE:  4.579871134832202\n",
      "Test MSE:  9.874986577491393\n",
      "11\n",
      "Train MSE:  15.571760394653854\n",
      "Test MSE:  16.85220365697767\n",
      "12\n",
      "Train MSE:  4.079573057569978\n",
      "Test MSE:  8.113146792336579\n",
      "13\n",
      "Train MSE:  3.4398570924688845\n",
      "Test MSE:  5.6945110454191425\n",
      "14\n",
      "Train MSE:  2.221895185127262\n",
      "Test MSE:  5.456047804733192\n",
      "15\n",
      "Train MSE:  1.4204873423971593\n",
      "Test MSE:  4.263365770847859\n",
      "16\n",
      "Train MSE:  1.1997692432102007\n",
      "Test MSE:  3.572485105286146\n"
     ]
    }
   ],
   "source": [
    "mse_train_list=[]\n",
    "mse_test_list=[]\n",
    "\n",
    "last_mse_test = np.inf\n",
    "\n",
    "i=1\n",
    "while last_mse_test>4:\n",
    "    print(i)\n",
    "    i+=1\n",
    "    mse_train, mse_test = mlp.train(x_train, y_train, x_test, y_test, 1000, 0.0005, 10)\n",
    "    print('Train MSE: ', mse_train[-1])\n",
    "    print('Test MSE: ', mse_test[-1])\n",
    "    mse_train_list.append(mse_train)\n",
    "    mse_test_list.append(mse_test)\n",
    "    last_mse_test=mse_test[-1]"
   ]
  },
  {
   "cell_type": "markdown",
   "id": "54cc5e95",
   "metadata": {},
   "source": [
    "Dopasowanie predykcji do zbioru testowego:"
   ]
  },
  {
   "cell_type": "code",
   "execution_count": 7,
   "id": "598fecbe",
   "metadata": {},
   "outputs": [
    {
     "data": {
      "text/plain": [
       "[<matplotlib.lines.Line2D at 0x250c4c9b5e0>]"
      ]
     },
     "execution_count": 7,
     "metadata": {},
     "output_type": "execute_result"
    },
    {
     "data": {
      "image/png": "[encoded data removed]",
      "text/plain": [
       "<Figure size 432x288 with 1 Axes>"
      ]
     },
     "metadata": {
      "needs_background": "light"
     },
     "output_type": "display_data"
    }
   ],
   "source": [
    "y_pred = mlp.predict(x_test)\n",
    "plt.plot(x_test, y_test, 'bo')\n",
    "plt.plot(x_test, y_pred, 'ro')"
   ]
  },
  {
   "cell_type": "markdown",
   "id": "3edbe5e3",
   "metadata": {},
   "source": [
    "Wizualizacja zmiany wag:"
   ]
  },
  {
   "cell_type": "code",
   "execution_count": 8,
   "id": "88c58307",
   "metadata": {},
   "outputs": [
    {
     "data": {
      "image/png": "[encoded data removed]",
      "text/plain": [
       "<Figure size 432x288 with 1 Axes>"
      ]
     },
     "metadata": {
      "needs_background": "light"
     },
     "output_type": "display_data"
    }
   ],
   "source": [
    "x = [i for i in range(1, 16*1000*10)]\n",
    "w1 = [mlp.weights_norms[i][0] for i in range(len(x))]\n",
    "w2 = [mlp.weights_norms[i][1] for i in range(len(x))]\n",
    "w3 = [mlp.weights_norms[i][2] for i in range(len(x))]\n",
    "\n",
    "fig, ax = plt.subplots()\n",
    "\n",
    "ax.plot(x,w1, label='Normy wag na 1 warstwie')\n",
    "ax.plot(x,w2, label='Normy wag na 2 warstwie')\n",
    "ax.plot(x,w3, label='Normy wag na 3 warstwie')\n",
    "\n",
    "ax.set_title('Zmiana norm wag z biegiem epok')\n",
    "ax.legend()\n",
    "plt.show()"
   ]
  },
  {
   "cell_type": "code",
   "execution_count": 9,
   "id": "5c056f9c",
   "metadata": {},
   "outputs": [
    {
     "data": {
      "image/png": "[encoded data removed]",
      "text/plain": [
       "<Figure size 432x288 with 1 Axes>"
      ]
     },
     "metadata": {
      "needs_background": "light"
     },
     "output_type": "display_data"
    }
   ],
   "source": [
    "x = [i for i in range(1, 16*1000*10)]\n",
    "b1 = [mlp.biases_norms[i][0] for i in range(len(x))]\n",
    "b2 = [mlp.biases_norms[i][1] for i in range(len(x))]\n",
    "b3 = [mlp.biases_norms[i][2] for i in range(len(x))]\n",
    "\n",
    "fig, ax = plt.subplots()\n",
    "\n",
    "ax.plot(x,b1, label='Normy biasow na 1 warstwie')\n",
    "ax.plot(x,b2, label='Normy biasow na 2 warstwie')\n",
    "ax.plot(x,b3, label='Normy biasow na 3 warstwie')\n",
    "\n",
    "ax.set_title('Zmiana norm biasow z biegiem epok')\n",
    "ax.legend()\n",
    "plt.show()"
   ]
  },
  {
   "cell_type": "markdown",
   "id": "ab54605d",
   "metadata": {},
   "source": [
    "Wersja bez podziału na batche, wykonamy tyle samo iteracji, ile zajęło zejście do MSE < 4 trenując z batchami i porównamy uzyskane MSE, aby określić, która wersja uczy się szybciej: "
   ]
  },
  {
   "cell_type": "code",
   "execution_count": 10,
   "id": "77bef799",
   "metadata": {},
   "outputs": [],
   "source": [
    "np.random.seed(9)\n",
    "mlp = MLP([1,10,10,1], sigmoid, sigmoid_derivative)"
   ]
  },
  {
   "cell_type": "code",
   "execution_count": 11,
   "id": "540d77b3",
   "metadata": {
    "scrolled": true
   },
   "outputs": [
    {
     "name": "stdout",
     "output_type": "stream",
     "text": [
      "0\n",
      "Train MSE:  9176.55729564039\n",
      "Test MSE:  7316.673578747486\n",
      "1\n",
      "Train MSE:  9175.136876729926\n",
      "Test MSE:  7312.446314112104\n",
      "2\n",
      "Train MSE:  9174.47765229439\n",
      "Test MSE:  7311.6002254989035\n",
      "3\n",
      "Train MSE:  9174.085344191692\n",
      "Test MSE:  7311.107597079152\n",
      "4\n",
      "Train MSE:  9173.812895021365\n",
      "Test MSE:  7310.784860965171\n",
      "5\n",
      "Train MSE:  9173.598305959964\n",
      "Test MSE:  7310.557018371315\n",
      "6\n",
      "Train MSE:  9173.408587385296\n",
      "Test MSE:  7310.386443522148\n",
      "7\n",
      "Train MSE:  9173.2209607566\n",
      "Test MSE:  7310.251781453804\n",
      "8\n",
      "Train MSE:  9173.013765495354\n",
      "Test MSE:  7310.139191382305\n",
      "9\n",
      "Train MSE:  9172.75854459526\n",
      "Test MSE:  7310.037798955243\n",
      "10\n",
      "Train MSE:  9172.406978348517\n",
      "Test MSE:  7309.936086667241\n",
      "11\n",
      "Train MSE:  9171.858930634453\n",
      "Test MSE:  7309.816337364062\n",
      "12\n",
      "Train MSE:  9170.862040356655\n",
      "Test MSE:  7309.639330149912\n",
      "13\n",
      "Train MSE:  9168.604406772962\n",
      "Test MSE:  7309.272270350513\n",
      "14\n",
      "Train MSE:  9161.542031497871\n",
      "Test MSE:  7307.7107562551555\n",
      "15\n",
      "Train MSE:  9132.497754679602\n",
      "Test MSE:  7294.442249646883\n"
     ]
    }
   ],
   "source": [
    "mse_train_list_nobatches=[]\n",
    "mse_test_list_nobatches=[]\n",
    "\n",
    "for i in range(16):\n",
    "    print(i)\n",
    "    mse_train, mse_test = mlp.train(x_train, y_train, x_test, y_test, 1000, 0.0005)\n",
    "    print('Train MSE: ', mse_train[-1])\n",
    "    print('Test MSE: ', mse_test[-1])\n",
    "    mse_train_list_nobatches.append(mse_train)\n",
    "    mse_test_list_nobatches.append(mse_test)"
   ]
  },
  {
   "cell_type": "markdown",
   "id": "d9391aae",
   "metadata": {},
   "source": [
    "Możemy jeszcze porównać wyniki graficznie, analiza potwierdza szybsze uczenie przy implementacji batchów:"
   ]
  },
  {
   "cell_type": "code",
   "execution_count": 12,
   "id": "f4436895",
   "metadata": {},
   "outputs": [
    {
     "data": {
      "image/png": "[encoded data removed]",
      "text/plain": [
       "<Figure size 1080x360 with 2 Axes>"
      ]
     },
     "metadata": {
      "needs_background": "light"
     },
     "output_type": "display_data"
    }
   ],
   "source": [
    "unnested_mse_train_list = list(chain.from_iterable(mse_train_list))\n",
    "unnested_mse_test_list = list(chain.from_iterable(mse_test_list))\n",
    "unnested_mse_train_list_nobatches = list(chain.from_iterable(mse_train_list_nobatches))\n",
    "unnested_mse_test_list_nobatches = list(chain.from_iterable(mse_test_list_nobatches))\n",
    "\n",
    "\n",
    "fig, axs = plt.subplots(1,2, figsize=(15, 5))\n",
    "\n",
    "x1 = np.arange(0, len(unnested_mse_train_list))\n",
    "axs[0].plot(x1, unnested_mse_train_list)\n",
    "axs[0].plot(x1, unnested_mse_test_list)\n",
    "axs[0].set_ylabel('MSE')\n",
    "axs[0].set_title('Szybkosc uczenia z batchami')\n",
    "\n",
    "x1 = np.arange(0, len(unnested_mse_train_list_nobatches))\n",
    "axs[1].plot(x1, unnested_mse_train_list_nobatches)\n",
    "axs[1].plot(x1, unnested_mse_test_list_nobatches)\n",
    "axs[1].set_title('Szybkosc uczenia z bez batchow')\n",
    "axs[1].set_ylabel('MSE')\n",
    "\n",
    "plt.show()\n"
   ]
  },
  {
   "cell_type": "markdown",
   "id": "fedfb492",
   "metadata": {},
   "source": [
    "## Zbiór steps-small"
   ]
  },
  {
   "cell_type": "code",
   "execution_count": 13,
   "id": "afd89741",
   "metadata": {},
   "outputs": [],
   "source": [
    "df_train = pd.read_csv('mio1/regression/steps-small-training.csv')\n",
    "x_train, y_train = np.array(df_train['x']).reshape(-1,1), np.array(df_train['y']).reshape(-1,1)\n",
    "\n",
    "df_test = pd.read_csv('mio1/regression/steps-small-test.csv')\n",
    "x_test, y_test = np.array(df_test['x']).reshape(-1,1), np.array(df_test['y']).reshape(-1,1)"
   ]
  },
  {
   "cell_type": "markdown",
   "id": "96aae08a",
   "metadata": {},
   "source": [
    " #### Wizualizacja zbioru"
   ]
  },
  {
   "cell_type": "code",
   "execution_count": 14,
   "id": "2fd6059d",
   "metadata": {},
   "outputs": [
    {
     "data": {
      "text/plain": [
       "[<matplotlib.lines.Line2D at 0x250c48e28e0>]"
      ]
     },
     "execution_count": 14,
     "metadata": {},
     "output_type": "execute_result"
    },
    {
     "data": {
      "image/png": "[encoded data removed]",
      "text/plain": [
       "<Figure size 432x288 with 1 Axes>"
      ]
     },
     "metadata": {
      "needs_background": "light"
     },
     "output_type": "display_data"
    }
   ],
   "source": [
    "plt.plot(x_train, y_train, 'bo')"
   ]
  },
  {
   "cell_type": "markdown",
   "id": "f98dc01e",
   "metadata": {},
   "source": [
    "#### Trening sieci\n",
    "\n",
    "Mimo licznych prób nie udało się osiągnąc zadanego poziomu MSE na zbiorze testowym, zadowolimy się więc MSE=2 na zbiorze treningowym. Problem ze zbiorem testowym wynika prawdopodobnie z nieścisłości ze zbiorem treningowym, przez co sieć nie jest w stanie przewidzieć wartości kilku obserwacji, utrzymując MSE na poziomie około 100."
   ]
  },
  {
   "cell_type": "code",
   "execution_count": 15,
   "id": "b3a17feb",
   "metadata": {},
   "outputs": [],
   "source": [
    "np.random.seed(9)\n",
    "mlp = MLP([1,10,10,1], sigmoid, sigmoid_derivative)"
   ]
  },
  {
   "cell_type": "code",
   "execution_count": 16,
   "id": "96e4c5a6",
   "metadata": {
    "scrolled": true
   },
   "outputs": [
    {
     "name": "stdout",
     "output_type": "stream",
     "text": [
      "1\n",
      "Train MSE:  5982.994089098303\n",
      "Test MSE:  7020.3464054235965\n",
      "2\n",
      "Train MSE:  2546.354857705007\n",
      "Test MSE:  2910.3417931084514\n",
      "3\n",
      "Train MSE:  1936.5728061629923\n",
      "Test MSE:  2211.2278634047307\n",
      "4\n",
      "Train MSE:  1603.3275558784867\n",
      "Test MSE:  1801.5617935482762\n",
      "5\n",
      "Train MSE:  1351.975354560332\n",
      "Test MSE:  1489.1295499548544\n",
      "6\n",
      "Train MSE:  1147.1230682514379\n",
      "Test MSE:  1245.764147877312\n",
      "7\n",
      "Train MSE:  939.9082413928846\n",
      "Test MSE:  1024.788441122064\n",
      "8\n",
      "Train MSE:  773.6760953968308\n",
      "Test MSE:  851.1334630001076\n",
      "9\n",
      "Train MSE:  618.9395662366346\n",
      "Test MSE:  706.7765482691331\n",
      "10\n",
      "Train MSE:  502.194049767202\n",
      "Test MSE:  592.4997948188424\n",
      "11\n",
      "Train MSE:  417.33142121033035\n",
      "Test MSE:  506.04384160311434\n",
      "12\n",
      "Train MSE:  352.72072722510995\n",
      "Test MSE:  438.5673355914648\n",
      "13\n",
      "Train MSE:  299.9885436909887\n",
      "Test MSE:  385.4761692200739\n",
      "14\n",
      "Train MSE:  240.7720538009683\n",
      "Test MSE:  335.31511453934667\n",
      "15\n",
      "Train MSE:  192.36428107122555\n",
      "Test MSE:  290.4120135514042\n",
      "16\n",
      "Train MSE:  156.77285268979568\n",
      "Test MSE:  255.53146076623787\n",
      "17\n",
      "Train MSE:  130.22146607303813\n",
      "Test MSE:  229.03680941851263\n",
      "18\n",
      "Train MSE:  109.90924208305314\n",
      "Test MSE:  208.7525986610004\n",
      "19\n",
      "Train MSE:  94.02467268079238\n",
      "Test MSE:  192.91863918943315\n",
      "20\n",
      "Train MSE:  81.34101214693963\n",
      "Test MSE:  180.0934706741617\n",
      "21\n",
      "Train MSE:  71.03230966911713\n",
      "Test MSE:  169.9553378956909\n",
      "22\n",
      "Train MSE:  62.533179625020665\n",
      "Test MSE:  161.72449401238697\n",
      "23\n",
      "Train MSE:  55.42994640565781\n",
      "Test MSE:  154.3471875709333\n",
      "24\n",
      "Train MSE:  49.444733523713886\n",
      "Test MSE:  148.4912678187137\n",
      "25\n",
      "Train MSE:  44.35382709787437\n",
      "Test MSE:  143.60377172730813\n",
      "26\n",
      "Train MSE:  40.001857403724486\n",
      "Test MSE:  139.73098957982202\n",
      "27\n",
      "Train MSE:  36.24982824878314\n",
      "Test MSE:  135.44839097850442\n",
      "28\n",
      "Train MSE:  33.00827281409859\n",
      "Test MSE:  132.3646206457343\n",
      "29\n",
      "Train MSE:  30.192902848525076\n",
      "Test MSE:  129.8950700725578\n",
      "30\n",
      "Train MSE:  27.736703088545795\n",
      "Test MSE:  127.78261368378305\n",
      "31\n",
      "Train MSE:  25.58173650083739\n",
      "Test MSE:  125.21039112044323\n",
      "32\n",
      "Train MSE:  23.68951369170647\n",
      "Test MSE:  123.40037330811263\n",
      "33\n",
      "Train MSE:  22.017388900567767\n",
      "Test MSE:  121.7854768017101\n",
      "34\n",
      "Train MSE:  20.536590686677656\n",
      "Test MSE:  120.37359547842962\n",
      "35\n",
      "Train MSE:  19.218688541820732\n",
      "Test MSE:  118.87649344203254\n",
      "36\n",
      "Train MSE:  18.041846179197705\n",
      "Test MSE:  117.77527988407843\n",
      "37\n",
      "Train MSE:  16.987504079127234\n",
      "Test MSE:  116.85773272287915\n",
      "38\n",
      "Train MSE:  16.036978503764686\n",
      "Test MSE:  115.70475587248833\n",
      "39\n",
      "Train MSE:  15.17983398796435\n",
      "Test MSE:  114.87313069093123\n",
      "40\n",
      "Train MSE:  14.400994640529241\n",
      "Test MSE:  113.95668817553252\n",
      "41\n",
      "Train MSE:  13.693357119921224\n",
      "Test MSE:  113.34594073668279\n",
      "42\n",
      "Train MSE:  13.047530108838172\n",
      "Test MSE:  112.8014182161914\n",
      "43\n",
      "Train MSE:  12.455528279161818\n",
      "Test MSE:  112.09716014979385\n",
      "44\n",
      "Train MSE:  11.910521504418238\n",
      "Test MSE:  111.38959812770268\n",
      "45\n",
      "Train MSE:  11.409024209607106\n",
      "Test MSE:  110.87636622707409\n",
      "46\n",
      "Train MSE:  10.944927658380434\n",
      "Test MSE:  110.36843096550052\n",
      "47\n",
      "Train MSE:  10.514424759538874\n",
      "Test MSE:  109.89564678895736\n",
      "48\n",
      "Train MSE:  10.114742576364554\n",
      "Test MSE:  109.53532954857201\n",
      "49\n",
      "Train MSE:  9.742076440626256\n",
      "Test MSE:  109.1143254866668\n",
      "50\n",
      "Train MSE:  9.393559908928562\n",
      "Test MSE:  108.79036979360626\n",
      "51\n",
      "Train MSE:  9.0672477043141\n",
      "Test MSE:  108.4238633783683\n",
      "52\n",
      "Train MSE:  8.759989496862726\n",
      "Test MSE:  107.8540151453252\n",
      "53\n",
      "Train MSE:  8.472465746032517\n",
      "Test MSE:  107.71594384157912\n",
      "54\n",
      "Train MSE:  8.201150984026294\n",
      "Test MSE:  107.47473755502241\n",
      "55\n",
      "Train MSE:  7.944461569434881\n",
      "Test MSE:  106.93849675163966\n",
      "56\n",
      "Train MSE:  7.702591498729029\n",
      "Test MSE:  106.82561933307042\n",
      "57\n",
      "Train MSE:  7.473346605987948\n",
      "Test MSE:  106.50055104588195\n",
      "58\n",
      "Train MSE:  7.256234123339327\n",
      "Test MSE:  106.40823485608617\n",
      "59\n",
      "Train MSE:  7.049650692564365\n",
      "Test MSE:  106.09503766658457\n",
      "60\n",
      "Train MSE:  6.853485997898225\n",
      "Test MSE:  105.86468191786214\n",
      "61\n",
      "Train MSE:  6.666575745040521\n",
      "Test MSE:  105.62529497149693\n",
      "62\n",
      "Train MSE:  6.488760676393159\n",
      "Test MSE:  105.4011340165008\n",
      "63\n",
      "Train MSE:  6.319093923875833\n",
      "Test MSE:  105.29515583651819\n",
      "64\n",
      "Train MSE:  6.1571511089734114\n",
      "Test MSE:  105.11735279617135\n",
      "65\n",
      "Train MSE:  6.002083398361593\n",
      "Test MSE:  104.9551791052674\n",
      "66\n",
      "Train MSE:  5.853615005301727\n",
      "Test MSE:  104.70452323351802\n",
      "67\n",
      "Train MSE:  5.711879991711333\n",
      "Test MSE:  104.61987060915368\n",
      "68\n",
      "Train MSE:  5.575829625944607\n",
      "Test MSE:  104.45918667012462\n",
      "69\n",
      "Train MSE:  5.445456909472394\n",
      "Test MSE:  104.31860237526378\n",
      "70\n",
      "Train MSE:  5.3201469417160885\n",
      "Test MSE:  104.18403616957072\n",
      "71\n",
      "Train MSE:  5.199806275359694\n",
      "Test MSE:  104.00060256445884\n",
      "72\n",
      "Train MSE:  5.084409012771521\n",
      "Test MSE:  103.93648384890601\n",
      "73\n",
      "Train MSE:  4.973164885476106\n",
      "Test MSE:  103.72786235783587\n",
      "74\n",
      "Train MSE:  4.866314047016821\n",
      "Test MSE:  103.67731309548674\n",
      "75\n",
      "Train MSE:  4.76310294258302\n",
      "Test MSE:  103.4715239793683\n",
      "76\n",
      "Train MSE:  4.663845091443666\n",
      "Test MSE:  103.36460389800006\n",
      "77\n",
      "Train MSE:  4.568178032588204\n",
      "Test MSE:  103.2713271724428\n",
      "78\n",
      "Train MSE:  4.475853617184517\n",
      "Test MSE:  103.17701762859141\n",
      "79\n",
      "Train MSE:  4.386644521656771\n",
      "Test MSE:  103.02460514809661\n",
      "80\n",
      "Train MSE:  4.300616356130993\n",
      "Test MSE:  102.95235002755804\n",
      "81\n",
      "Train MSE:  4.2175069573774975\n",
      "Test MSE:  102.86483468305218\n",
      "82\n",
      "Train MSE:  4.137138577750214\n",
      "Test MSE:  102.73554968150944\n",
      "83\n",
      "Train MSE:  4.05932859363457\n",
      "Test MSE:  102.66448226603889\n",
      "84\n",
      "Train MSE:  3.984089909111991\n",
      "Test MSE:  102.5705170102068\n",
      "85\n",
      "Train MSE:  3.9113751976051163\n",
      "Test MSE:  102.452059018219\n",
      "86\n",
      "Train MSE:  3.8408421084375663\n",
      "Test MSE:  102.39226153865873\n",
      "87\n",
      "Train MSE:  3.7726276682026496\n",
      "Test MSE:  102.3418266075591\n",
      "88\n",
      "Train MSE:  3.706314932833122\n",
      "Test MSE:  102.19959673299373\n",
      "89\n",
      "Train MSE:  3.6421970267232466\n",
      "Test MSE:  102.15118182288381\n",
      "90\n",
      "Train MSE:  3.5800033157617066\n",
      "Test MSE:  102.11286108989783\n",
      "91\n",
      "Train MSE:  3.5196078073992654\n",
      "Test MSE:  102.00356973462262\n",
      "92\n",
      "Train MSE:  3.4609057383439947\n",
      "Test MSE:  101.8889356463109\n",
      "93\n",
      "Train MSE:  3.404042941092734\n",
      "Test MSE:  101.83673845016212\n",
      "94\n",
      "Train MSE:  3.3486948313864473\n",
      "Test MSE:  101.77237037755441\n",
      "95\n",
      "Train MSE:  3.2950160041782848\n",
      "Test MSE:  101.74304151178805\n",
      "96\n",
      "Train MSE:  3.242755844136362\n",
      "Test MSE:  101.62144903507651\n",
      "97\n",
      "Train MSE:  3.19203412079172\n",
      "Test MSE:  101.61028618429222\n",
      "98\n",
      "Train MSE:  3.1425228839314627\n",
      "Test MSE:  101.47541337691389\n",
      "99\n",
      "Train MSE:  3.0944978960671192\n",
      "Test MSE:  101.43337333927016\n",
      "100\n",
      "Train MSE:  3.047743489012069\n",
      "Test MSE:  101.37544627717709\n",
      "101\n",
      "Train MSE:  3.002216939423487\n",
      "Test MSE:  101.33303021214665\n",
      "102\n",
      "Train MSE:  2.957901923953703\n",
      "Test MSE:  101.26082714600469\n",
      "103\n",
      "Train MSE:  2.914654024534569\n",
      "Test MSE:  101.21079628380564\n",
      "104\n",
      "Train MSE:  2.8725689838914406\n",
      "Test MSE:  101.12451246846125\n",
      "105\n",
      "Train MSE:  2.831549208638001\n",
      "Test MSE:  101.08598776827992\n",
      "106\n",
      "Train MSE:  2.7915304501590685\n",
      "Test MSE:  101.00594744433361\n",
      "107\n",
      "Train MSE:  2.7525309987680076\n",
      "Test MSE:  100.99637947535965\n",
      "108\n",
      "Train MSE:  2.71446785306939\n",
      "Test MSE:  100.92019367349481\n",
      "109\n",
      "Train MSE:  2.677342475599196\n",
      "Test MSE:  100.86311771801059\n",
      "110\n",
      "Train MSE:  2.641145820258586\n",
      "Test MSE:  100.85192370485362\n",
      "111\n",
      "Train MSE:  2.6057459394318805\n",
      "Test MSE:  100.77221726517024\n",
      "112\n",
      "Train MSE:  2.571255316943404\n",
      "Test MSE:  100.74277069998823\n",
      "113\n",
      "Train MSE:  2.5374935496652906\n",
      "Test MSE:  100.67455160004737\n",
      "114\n",
      "Train MSE:  2.504547507772722\n",
      "Test MSE:  100.63936233983773\n",
      "115\n",
      "Train MSE:  2.4723789024471987\n",
      "Test MSE:  100.59814843092356\n",
      "116\n",
      "Train MSE:  2.4408591675810163\n",
      "Test MSE:  100.52104701939535\n",
      "117\n",
      "Train MSE:  2.4101222159328715\n",
      "Test MSE:  100.49940588496274\n",
      "118\n",
      "Train MSE:  2.380038069847012\n",
      "Test MSE:  100.44475880397076\n",
      "119\n",
      "Train MSE:  2.350625610079723\n",
      "Test MSE:  100.39545947665796\n",
      "120\n",
      "Train MSE:  2.3218623406637553\n",
      "Test MSE:  100.37307703262572\n",
      "121\n",
      "Train MSE:  2.293724215848115\n",
      "Test MSE:  100.31980310404153\n",
      "122\n",
      "Train MSE:  2.266180779191484\n",
      "Test MSE:  100.28351447034228\n",
      "123\n",
      "Train MSE:  2.23924083412031\n",
      "Test MSE:  100.25626554007877\n",
      "124\n",
      "Train MSE:  2.2128476838427362\n",
      "Test MSE:  100.22116214852493\n",
      "125\n",
      "Train MSE:  2.1869957328891245\n",
      "Test MSE:  100.17295644845898\n",
      "126\n",
      "Train MSE:  2.1616638701873647\n",
      "Test MSE:  100.1133404733063\n",
      "127\n",
      "Train MSE:  2.1369027903722833\n",
      "Test MSE:  100.08117599347004\n",
      "128\n",
      "Train MSE:  2.112636760676625\n",
      "Test MSE:  100.04726590271339\n",
      "129\n",
      "Train MSE:  2.0888161257667934\n",
      "Test MSE:  100.00139143781449\n",
      "130\n",
      "Train MSE:  2.0655228973506006\n",
      "Test MSE:  99.9901374558117\n",
      "131\n"
     ]
    },
    {
     "name": "stdout",
     "output_type": "stream",
     "text": [
      "Train MSE:  2.042662890804531\n",
      "Test MSE:  99.94667076050364\n",
      "132\n",
      "Train MSE:  2.0202492676303514\n",
      "Test MSE:  99.89823160751148\n",
      "133\n",
      "Train MSE:  1.9982741841498952\n",
      "Test MSE:  99.85119608692602\n"
     ]
    }
   ],
   "source": [
    "mse_train_list=[]\n",
    "mse_test_list=[]\n",
    "\n",
    "last_mse_train = np.inf\n",
    "\n",
    "i=1\n",
    "while last_mse_train>2:\n",
    "    print(i)\n",
    "    i+=1\n",
    "    mse_train, mse_test = mlp.train(x_train, y_train, x_test, y_test, 1000, 0.0001, 10)\n",
    "    print('Train MSE: ', mse_train[-1])\n",
    "    print('Test MSE: ', mse_test[-1])\n",
    "    mse_train_list.append(mse_train)\n",
    "    mse_test_list.append(mse_test)\n",
    "    last_mse_train=mse_train[-1]"
   ]
  },
  {
   "cell_type": "markdown",
   "id": "07dab140",
   "metadata": {},
   "source": [
    "Dopasowanie predykcji do zbioru testowego:"
   ]
  },
  {
   "cell_type": "code",
   "execution_count": 17,
   "id": "620f2108",
   "metadata": {},
   "outputs": [
    {
     "data": {
      "text/plain": [
       "[<matplotlib.lines.Line2D at 0x250d57e1550>]"
      ]
     },
     "execution_count": 17,
     "metadata": {},
     "output_type": "execute_result"
    },
    {
     "data": {
      "image/png": "[encoded data removed]",
      "text/plain": [
       "<Figure size 432x288 with 1 Axes>"
      ]
     },
     "metadata": {
      "needs_background": "light"
     },
     "output_type": "display_data"
    }
   ],
   "source": [
    "y_pred = mlp.predict(x_test)\n",
    "plt.plot(x_test, y_test, 'bo')\n",
    "plt.plot(x_test, y_pred, 'ro')"
   ]
  },
  {
   "cell_type": "markdown",
   "id": "266aab6a",
   "metadata": {},
   "source": [
    "Wizualizacja zmiany wag"
   ]
  },
  {
   "cell_type": "code",
   "execution_count": 18,
   "id": "6fe51299",
   "metadata": {},
   "outputs": [
    {
     "data": {
      "image/png": "[encoded data removed]",
      "text/plain": [
       "<Figure size 432x288 with 1 Axes>"
      ]
     },
     "metadata": {
      "needs_background": "light"
     },
     "output_type": "display_data"
    }
   ],
   "source": [
    "x = [i for i in range(1, 133*1000*5)]\n",
    "w1 = [mlp.weights_norms[i][0] for i in range(len(x))]\n",
    "w2 = [mlp.weights_norms[i][1] for i in range(len(x))]\n",
    "w3 = [mlp.weights_norms[i][2] for i in range(len(x))]\n",
    "\n",
    "fig, ax = plt.subplots()\n",
    "\n",
    "ax.plot(x,w1, label='Normy wag na 1 warstwie')\n",
    "ax.plot(x,w2, label='Normy wag na 2 warstwie')\n",
    "ax.plot(x,w3, label='Normy wag na 3 warstwie')\n",
    "\n",
    "ax.set_title('Zmiana norm wag z biegiem epok')\n",
    "ax.legend()\n",
    "plt.show()"
   ]
  },
  {
   "cell_type": "code",
   "execution_count": 19,
   "id": "21a76f96",
   "metadata": {},
   "outputs": [
    {
     "data": {
      "image/png": "[encoded data removed]",
      "text/plain": [
       "<Figure size 432x288 with 1 Axes>"
      ]
     },
     "metadata": {
      "needs_background": "light"
     },
     "output_type": "display_data"
    }
   ],
   "source": [
    "x = [i for i in range(1, 133*1000*5)]\n",
    "b1 = [mlp.biases_norms[i][0] for i in range(len(x))]\n",
    "b2 = [mlp.biases_norms[i][1] for i in range(len(x))]\n",
    "b3 = [mlp.biases_norms[i][2] for i in range(len(x))]\n",
    "\n",
    "fig, ax = plt.subplots()\n",
    "\n",
    "ax.plot(x,b1, label='Normy biasow na 1 warstwie')\n",
    "ax.plot(x,b2, label='Normy biasow na 2 warstwie')\n",
    "ax.plot(x,b3, label='Normy biasow na 3 warstwie')\n",
    "\n",
    "ax.set_title('Zmiana norm biasow z biegiem epok')\n",
    "ax.legend()\n",
    "plt.show()"
   ]
  },
  {
   "cell_type": "markdown",
   "id": "71b7a9f5",
   "metadata": {},
   "source": [
    "Ponownie wykonamy tyle samo iteracji trenując bez podzaiłu na batche:"
   ]
  },
  {
   "cell_type": "code",
   "execution_count": 20,
   "id": "fa01123e",
   "metadata": {},
   "outputs": [],
   "source": [
    "np.random.seed(9)\n",
    "mlp = MLP([1,10,10,1], sigmoid, sigmoid_derivative)"
   ]
  },
  {
   "cell_type": "code",
   "execution_count": 21,
   "id": "e47a2d23",
   "metadata": {
    "scrolled": true
   },
   "outputs": [
    {
     "name": "stdout",
     "output_type": "stream",
     "text": [
      "0\n",
      "Train MSE:  6394.209728404613\n",
      "Test MSE:  7589.853264641202\n",
      "1\n",
      "Train MSE:  6373.796432857245\n",
      "Test MSE:  7530.904921240861\n",
      "2\n",
      "Train MSE:  6346.582253927075\n",
      "Test MSE:  7484.489358781935\n",
      "3\n",
      "Train MSE:  6273.809439938208\n",
      "Test MSE:  7386.9066104270905\n",
      "4\n",
      "Train MSE:  5982.897489172969\n",
      "Test MSE:  7020.208020223687\n",
      "5\n",
      "Train MSE:  5090.769505840051\n",
      "Test MSE:  5944.792934154568\n",
      "6\n",
      "Train MSE:  3996.178822789035\n",
      "Test MSE:  4639.663393168835\n",
      "7\n",
      "Train MSE:  3266.132217417684\n",
      "Test MSE:  3764.460009087227\n",
      "8\n",
      "Train MSE:  2824.6683355507166\n",
      "Test MSE:  3237.9801630118177\n",
      "9\n",
      "Train MSE:  2546.2700981266717\n",
      "Test MSE:  2910.255753485757\n",
      "10\n",
      "Train MSE:  2357.33339769349\n",
      "Test MSE:  2691.6958925438153\n",
      "11\n",
      "Train MSE:  2218.645120305441\n",
      "Test MSE:  2533.764811434052\n",
      "12\n",
      "Train MSE:  2109.2907441951265\n",
      "Test MSE:  2410.2003742598154\n",
      "13\n",
      "Train MSE:  2017.6659529715782\n",
      "Test MSE:  2306.0853400425285\n",
      "14\n",
      "Train MSE:  1936.4562975161455\n",
      "Test MSE:  2211.4133772995356\n",
      "15\n",
      "Train MSE:  1860.6917233952097\n",
      "Test MSE:  2119.4782274112144\n",
      "16\n",
      "Train MSE:  1790.6531779861998\n",
      "Test MSE:  2033.6868442494733\n",
      "17\n",
      "Train MSE:  1725.1232631274054\n",
      "Test MSE:  1952.875377175945\n",
      "18\n",
      "Train MSE:  1662.582247471941\n",
      "Test MSE:  1875.0118733462884\n",
      "19\n",
      "Train MSE:  1603.206022671672\n",
      "Test MSE:  1801.4901331684027\n",
      "20\n",
      "Train MSE:  1547.0441573883832\n",
      "Test MSE:  1731.970414883641\n",
      "21\n",
      "Train MSE:  1493.8977454809685\n",
      "Test MSE:  1665.9287361421686\n",
      "22\n",
      "Train MSE:  1443.7273845509826\n",
      "Test MSE:  1603.3884517891013\n",
      "23\n",
      "Train MSE:  1396.447559643013\n",
      "Test MSE:  1544.3301360273895\n",
      "24\n",
      "Train MSE:  1351.8524123622085\n",
      "Test MSE:  1488.5639183580645\n",
      "25\n",
      "Train MSE:  1309.5956278501983\n",
      "Test MSE:  1435.7358481670371\n",
      "26\n",
      "Train MSE:  1269.1746790526183\n",
      "Test MSE:  1385.399482869688\n",
      "27\n",
      "Train MSE:  1229.8501987370064\n",
      "Test MSE:  1337.17127463223\n",
      "28\n",
      "Train MSE:  1190.1292432960877\n",
      "Test MSE:  1290.8465819575931\n",
      "29\n",
      "Train MSE:  1146.3729508194513\n",
      "Test MSE:  1245.2832019812677\n",
      "30\n",
      "Train MSE:  1097.8140247516324\n",
      "Test MSE:  1197.480814107409\n",
      "31\n",
      "Train MSE:  1052.8006421427792\n",
      "Test MSE:  1149.6664564505277\n",
      "32\n",
      "Train MSE:  1012.6612022730139\n",
      "Test MSE:  1105.0631132138149\n",
      "33\n",
      "Train MSE:  975.2776280029617\n",
      "Test MSE:  1063.4986992851996\n",
      "34\n",
      "Train MSE:  939.680508053595\n",
      "Test MSE:  1024.3096328345225\n",
      "35\n",
      "Train MSE:  905.3835569166664\n",
      "Test MSE:  987.0248546807161\n",
      "36\n",
      "Train MSE:  871.9400173408044\n",
      "Test MSE:  951.2540834621791\n",
      "37\n",
      "Train MSE:  838.9352924551368\n",
      "Test MSE:  916.7013336486506\n",
      "38\n",
      "Train MSE:  806.2704576801984\n",
      "Test MSE:  883.3737744862492\n",
      "39\n",
      "Train MSE:  773.8697489843679\n",
      "Test MSE:  851.2454283438735\n",
      "40\n",
      "Train MSE:  741.4193610702624\n",
      "Test MSE:  820.0657963415495\n",
      "41\n",
      "Train MSE:  709.1329788752515\n",
      "Test MSE:  789.8949855722676\n",
      "42\n",
      "Train MSE:  677.6576768040046\n",
      "Test MSE:  760.8950971111866\n",
      "43\n",
      "Train MSE:  647.5427405880062\n",
      "Test MSE:  733.1195931662718\n",
      "44\n",
      "Train MSE:  619.1175977969058\n",
      "Test MSE:  706.6104425387978\n",
      "45\n",
      "Train MSE:  592.4877630850061\n",
      "Test MSE:  681.3813440864085\n",
      "46\n",
      "Train MSE:  567.613544551615\n",
      "Test MSE:  657.4197410966652\n",
      "47\n",
      "Train MSE:  544.3864945268557\n",
      "Test MSE:  634.6947675226313\n",
      "48\n",
      "Train MSE:  522.6750914520143\n",
      "Test MSE:  613.1623310763653\n",
      "49\n",
      "Train MSE:  502.34677632643894\n",
      "Test MSE:  592.7692922940677\n",
      "50\n",
      "Train MSE:  483.27709258254544\n",
      "Test MSE:  573.4571714610593\n",
      "51\n",
      "Train MSE:  465.35270678771155\n",
      "Test MSE:  555.1651398552547\n",
      "52\n",
      "Train MSE:  448.47175763118406\n",
      "Test MSE:  537.8322218580538\n",
      "53\n",
      "Train MSE:  432.5431340805846\n",
      "Test MSE:  521.3988097879989\n",
      "54\n",
      "Train MSE:  417.4853801447196\n",
      "Test MSE:  505.80764205889665\n",
      "55\n",
      "Train MSE:  403.225503054934\n",
      "Test MSE:  491.00438125339065\n",
      "56\n",
      "Train MSE:  389.6977654018736\n",
      "Test MSE:  476.9378995338537\n",
      "57\n",
      "Train MSE:  376.8424351125676\n",
      "Test MSE:  463.5603502708909\n",
      "58\n",
      "Train MSE:  364.6043708225526\n",
      "Test MSE:  450.8270783302619\n",
      "59\n",
      "Train MSE:  352.93115525428385\n",
      "Test MSE:  438.69639306603693\n",
      "60\n",
      "Train MSE:  341.77009396051506\n",
      "Test MSE:  427.12918504681477\n",
      "61\n",
      "Train MSE:  331.06229172076934\n",
      "Test MSE:  416.08826162923475\n",
      "62\n",
      "Train MSE:  320.7285543523496\n",
      "Test MSE:  405.53687886244137\n",
      "63\n",
      "Train MSE:  310.6300754054594\n",
      "Test MSE:  395.4339463446993\n",
      "64\n",
      "Train MSE:  300.45139143264026\n",
      "Test MSE:  385.71149257266933\n",
      "65\n",
      "Train MSE:  289.4900017984743\n",
      "Test MSE:  376.1679260396149\n",
      "66\n",
      "Train MSE:  277.328099361874\n",
      "Test MSE:  366.3587081922718\n",
      "67\n",
      "Train MSE:  264.9684789796254\n",
      "Test MSE:  356.1656213411203\n",
      "68\n",
      "Train MSE:  252.97220310221445\n",
      "Test MSE:  345.8314629516892\n",
      "69\n",
      "Train MSE:  241.47793678534967\n",
      "Test MSE:  335.63120641367465\n",
      "70\n",
      "Train MSE:  230.56425403519017\n",
      "Test MSE:  325.7486387939367\n",
      "71\n",
      "Train MSE:  220.2597199132173\n",
      "Test MSE:  316.2696785599068\n",
      "72\n",
      "Train MSE:  210.56149883397416\n",
      "Test MSE:  307.2297602483132\n",
      "73\n",
      "Train MSE:  201.44897312609572\n",
      "Test MSE:  298.6390527619753\n",
      "74\n",
      "Train MSE:  192.89186594821348\n",
      "Test MSE:  290.4932555854822\n",
      "75\n",
      "Train MSE:  184.85546951822252\n",
      "Test MSE:  282.77937657306387\n",
      "76\n",
      "Train MSE:  177.30400309311256\n",
      "Test MSE:  275.4794598450358\n",
      "77\n",
      "Train MSE:  170.20258910231843\n",
      "Test MSE:  268.5730518137552\n",
      "78\n",
      "Train MSE:  163.51826209486543\n",
      "Test MSE:  262.03875980498725\n",
      "79\n",
      "Train MSE:  157.22037349181\n",
      "Test MSE:  255.85518468546567\n",
      "80\n",
      "Train MSE:  151.2806614582649\n",
      "Test MSE:  250.00145294763365\n",
      "81\n",
      "Train MSE:  145.67315755769962\n",
      "Test MSE:  244.457507010609\n",
      "82\n",
      "Train MSE:  140.37402706247786\n",
      "Test MSE:  239.20425425480633\n",
      "83\n",
      "Train MSE:  135.36139202634774\n",
      "Test MSE:  234.2236341734948\n",
      "84\n",
      "Train MSE:  130.61515925111243\n",
      "Test MSE:  229.49863747681934\n",
      "85\n",
      "Train MSE:  126.11686147258231\n",
      "Test MSE:  225.0132963139471\n",
      "86\n",
      "Train MSE:  121.84951367623873\n",
      "Test MSE:  220.7526567162458\n",
      "87\n",
      "Train MSE:  117.79748382967165\n",
      "Test MSE:  216.70273999317436\n",
      "88\n",
      "Train MSE:  113.9463764811452\n",
      "Test MSE:  212.85049740104998\n",
      "89\n",
      "Train MSE:  110.28292759314489\n",
      "Test MSE:  209.1837610073492\n",
      "90\n",
      "Train MSE:  106.79490916822506\n",
      "Test MSE:  205.69119280246872\n",
      "91\n",
      "Train MSE:  103.47104246953114\n",
      "Test MSE:  202.36223352444114\n",
      "92\n",
      "Train MSE:  100.30091886022196\n",
      "Test MSE:  199.18705224153456\n",
      "93\n",
      "Train MSE:  97.2749274631678\n",
      "Test MSE:  196.15649742415025\n",
      "94\n",
      "Train MSE:  94.38418897625996\n",
      "Test MSE:  193.26204999951952\n",
      "95\n",
      "Train MSE:  91.62049507814622\n",
      "Test MSE:  190.4957787021898\n",
      "96\n",
      "Train MSE:  88.97625293336229\n",
      "Test MSE:  187.850297897335\n",
      "97\n",
      "Train MSE:  86.44443436227722\n",
      "Test MSE:  185.31872795317653\n",
      "98\n",
      "Train MSE:  84.01852928562754\n",
      "Test MSE:  182.8946581656132\n",
      "99\n",
      "Train MSE:  81.69250308958546\n",
      "Test MSE:  180.5721121864095\n",
      "100\n",
      "Train MSE:  79.46075758789839\n",
      "Test MSE:  178.34551587088887\n",
      "101\n",
      "Train MSE:  77.31809528425306\n",
      "Test MSE:  176.20966743808577\n",
      "102\n",
      "Train MSE:  75.25968666183635\n",
      "Test MSE:  174.15970982249308\n",
      "103\n",
      "Train MSE:  73.28104024863828\n",
      "Test MSE:  172.19110508943572\n",
      "104\n",
      "Train MSE:  71.3779752268545\n",
      "Test MSE:  170.29961078382846\n",
      "105\n",
      "Train MSE:  69.54659637304812\n",
      "Test MSE:  168.4812580832232\n",
      "106\n",
      "Train MSE:  67.78327113266488\n",
      "Test MSE:  166.73233162943094\n",
      "107\n",
      "Train MSE:  66.0846086482214\n",
      "Test MSE:  165.04935091797117\n",
      "108\n",
      "Train MSE:  64.44744057506567\n",
      "Test MSE:  163.42905313050193\n",
      "109\n",
      "Train MSE:  62.868803532137655\n",
      "Test MSE:  161.86837730174807\n",
      "110\n",
      "Train MSE:  61.34592304766801\n",
      "Test MSE:  160.36444971911408\n",
      "111\n",
      "Train MSE:  59.876198871344975\n",
      "Test MSE:  158.91457045977748\n",
      "112\n",
      "Train MSE:  58.45719153516627\n",
      "Test MSE:  157.51620097660728\n",
      "113\n",
      "Train MSE:  57.08661005508047\n",
      "Test MSE:  156.16695265049663\n",
      "114\n",
      "Train MSE:  55.76230067460633\n",
      "Test MSE:  154.86457623277983\n",
      "115\n",
      "Train MSE:  54.48223656000365\n",
      "Test MSE:  153.60695210703756\n",
      "116\n",
      "Train MSE:  53.24450836427069\n",
      "Test MSE:  152.39208130499188\n",
      "117\n",
      "Train MSE:  52.04731558432859\n",
      "Test MSE:  151.2180772162163\n",
      "118\n",
      "Train MSE:  50.888958642236496\n",
      "Test MSE:  150.08315793608202\n",
      "119\n",
      "Train MSE:  49.767831627278156\n",
      "Test MSE:  148.98563920070401\n",
      "120\n",
      "Train MSE:  48.68241564119493\n",
      "Test MSE:  147.92392786175688\n",
      "121\n",
      "Train MSE:  47.63127269388506\n",
      "Test MSE:  146.89651585771736\n",
      "122\n",
      "Train MSE:  46.61304010144781\n",
      "Test MSE:  145.90197464164942\n",
      "123\n",
      "Train MSE:  45.62642534269528\n",
      "Test MSE:  144.9389500287918\n",
      "124\n",
      "Train MSE:  44.67020133405942\n",
      "Test MSE:  144.00615743020387\n",
      "125\n",
      "Train MSE:  43.74320208637197\n",
      "Test MSE:  143.10237744149995\n",
      "126\n",
      "Train MSE:  42.844318710193996\n",
      "Test MSE:  142.2264517581206\n",
      "127\n",
      "Train MSE:  41.97249573931913\n",
      "Test MSE:  141.37727939104224\n",
      "128\n",
      "Train MSE:  41.126727744760345\n",
      "Test MSE:  140.5538131588412\n",
      "129\n",
      "Train MSE:  40.30605621397831\n",
      "Test MSE:  139.7550564341047\n",
      "130\n"
     ]
    },
    {
     "name": "stdout",
     "output_type": "stream",
     "text": [
      "Train MSE:  39.50956667235876\n",
      "Test MSE:  138.98006012389283\n",
      "131\n",
      "Train MSE:  38.736386025972166\n",
      "Test MSE:  138.2279198656845\n",
      "132\n",
      "Train MSE:  37.985680106542866\n",
      "Test MSE:  137.4977734217294\n"
     ]
    }
   ],
   "source": [
    "mse_train_list_nobatches=[]\n",
    "mse_test_list_nobatches=[]\n",
    "\n",
    "for i in range(133):\n",
    "    print(i)\n",
    "    mse_train, mse_test = mlp.train(x_train, y_train, x_test, y_test, 1000, 0.0001)\n",
    "    print('Train MSE: ', mse_train[-1])\n",
    "    print('Test MSE: ', mse_test[-1])\n",
    "    mse_train_list_nobatches.append(mse_train)\n",
    "    mse_test_list_nobatches.append(mse_test)"
   ]
  },
  {
   "cell_type": "markdown",
   "id": "545f4b94",
   "metadata": {},
   "source": [
    "I porównanie graficzne:"
   ]
  },
  {
   "cell_type": "code",
   "execution_count": 22,
   "id": "7e5178fa",
   "metadata": {},
   "outputs": [
    {
     "data": {
      "image/png": "[encoded data removed]",
      "text/plain": [
       "<Figure size 1080x360 with 2 Axes>"
      ]
     },
     "metadata": {
      "needs_background": "light"
     },
     "output_type": "display_data"
    }
   ],
   "source": [
    "unnested_mse_train_list = list(chain.from_iterable(mse_train_list))\n",
    "unnested_mse_test_list = list(chain.from_iterable(mse_test_list))\n",
    "unnested_mse_train_list_nobatches = list(chain.from_iterable(mse_train_list_nobatches))\n",
    "unnested_mse_test_list_nobatches = list(chain.from_iterable(mse_test_list_nobatches))\n",
    "\n",
    "\n",
    "fig, axs = plt.subplots(1,2, figsize=(15, 5))\n",
    "\n",
    "x1 = np.arange(0, len(unnested_mse_train_list))\n",
    "axs[0].plot(x1, unnested_mse_train_list)\n",
    "axs[0].plot(x1, unnested_mse_test_list)\n",
    "axs[0].set_title('Szybkosc uczenia z batchami')\n",
    "axs[0].set_ylabel('MSE')\n",
    "\n",
    "x1 = np.arange(0, len(unnested_mse_train_list_nobatches))\n",
    "axs[1].plot(x1, unnested_mse_train_list_nobatches)\n",
    "axs[1].plot(x1, unnested_mse_test_list_nobatches)\n",
    "axs[1].set_title('Szybkosc uczenia z bez batchow')\n",
    "axs[1].set_ylabel('MSE')\n",
    "\n",
    "plt.show()"
   ]
  },
  {
   "cell_type": "markdown",
   "id": "ee8debd3",
   "metadata": {},
   "source": [
    "## Zbiór multimodal-large"
   ]
  },
  {
   "cell_type": "code",
   "execution_count": 23,
   "id": "ed254947",
   "metadata": {},
   "outputs": [],
   "source": [
    "df_train = pd.read_csv('mio1/regression/multimodal-large-training.csv')\n",
    "x_train, y_train = np.array(df_train['x']).reshape(-1,1), np.array(df_train['y']).reshape(-1,1)\n",
    "\n",
    "df_test = pd.read_csv('mio1/regression/multimodal-large-test.csv')\n",
    "x_test, y_test = np.array(df_test['x']).reshape(-1,1), np.array(df_test['y']).reshape(-1,1)"
   ]
  },
  {
   "cell_type": "markdown",
   "id": "91d13ca1",
   "metadata": {},
   "source": [
    "#### Wizualizacja zbioru"
   ]
  },
  {
   "cell_type": "code",
   "execution_count": 24,
   "id": "42712a31",
   "metadata": {},
   "outputs": [
    {
     "data": {
      "text/plain": [
       "[<matplotlib.lines.Line2D at 0x250c76cbd30>]"
      ]
     },
     "execution_count": 24,
     "metadata": {},
     "output_type": "execute_result"
    },
    {
     "data": {
      "image/png": "[encoded data removed]",
      "text/plain": [
       "<Figure size 432x288 with 1 Axes>"
      ]
     },
     "metadata": {
      "needs_background": "light"
     },
     "output_type": "display_data"
    }
   ],
   "source": [
    "plt.plot(x_train, y_train, 'bo')"
   ]
  },
  {
   "cell_type": "markdown",
   "id": "7eccc4ad",
   "metadata": {},
   "source": [
    "#### Trening sieci"
   ]
  },
  {
   "cell_type": "code",
   "execution_count": 25,
   "id": "10466ef5",
   "metadata": {},
   "outputs": [],
   "source": [
    "np.random.seed(9)\n",
    "mlp = MLP([1,10,10,10,1], sigmoid, sigmoid_derivative)"
   ]
  },
  {
   "cell_type": "code",
   "execution_count": 26,
   "id": "0135e9d7",
   "metadata": {
    "scrolled": true
   },
   "outputs": [
    {
     "name": "stdout",
     "output_type": "stream",
     "text": [
      "1\n",
      "Train MSE:  2506.381605742429\n",
      "Test MSE:  2609.7621022644907\n",
      "2\n",
      "Train MSE:  1506.4055526640905\n",
      "Test MSE:  1654.623229567891\n",
      "3\n",
      "Train MSE:  462.92307793092624\n",
      "Test MSE:  504.4640486591562\n",
      "4\n",
      "Train MSE:  23.926378431849987\n",
      "Test MSE:  17.867973493372933\n"
     ]
    }
   ],
   "source": [
    "mse_train_list=[]\n",
    "mse_test_list=[]\n",
    "\n",
    "last_mse_test = np.inf\n",
    "\n",
    "i=1\n",
    "while last_mse_test>40:\n",
    "    print(i)\n",
    "    i+=1\n",
    "    mse_train, mse_test = mlp.train(x_train, y_train, x_test, y_test, 100, 0.001, 50)\n",
    "    print('Train MSE: ', mse_train[-1])\n",
    "    print('Test MSE: ', mse_test[-1])\n",
    "    mse_train_list.append(mse_train)\n",
    "    mse_test_list.append(mse_test)\n",
    "    last_mse_test=mse_test[-1]"
   ]
  },
  {
   "cell_type": "markdown",
   "id": "93446a5a",
   "metadata": {},
   "source": [
    "Dopasowanie predykcji"
   ]
  },
  {
   "cell_type": "code",
   "execution_count": 27,
   "id": "03f12ac2",
   "metadata": {},
   "outputs": [
    {
     "data": {
      "text/plain": [
       "[<matplotlib.lines.Line2D at 0x250c4ce0c70>]"
      ]
     },
     "execution_count": 27,
     "metadata": {},
     "output_type": "execute_result"
    },
    {
     "data": {
      "image/png": "[encoded data removed]",
      "text/plain": [
       "<Figure size 432x288 with 1 Axes>"
      ]
     },
     "metadata": {
      "needs_background": "light"
     },
     "output_type": "display_data"
    }
   ],
   "source": [
    "y_pred = mlp.predict(x_test)\n",
    "plt.plot(x_test, y_test, 'bo')\n",
    "plt.plot(x_test, y_pred, 'ro')"
   ]
  },
  {
   "cell_type": "markdown",
   "id": "4040b727",
   "metadata": {},
   "source": [
    "Wizualizacja zmiany wag"
   ]
  },
  {
   "cell_type": "code",
   "execution_count": 28,
   "id": "2164375e",
   "metadata": {},
   "outputs": [
    {
     "data": {
      "image/png": "[encoded data removed]",
      "text/plain": [
       "<Figure size 432x288 with 1 Axes>"
      ]
     },
     "metadata": {
      "needs_background": "light"
     },
     "output_type": "display_data"
    }
   ],
   "source": [
    "x = [i for i in range(1, 4*1000*20)]\n",
    "w1 = [mlp.weights_norms[i][0] for i in range(len(x))]\n",
    "w2 = [mlp.weights_norms[i][1] for i in range(len(x))]\n",
    "w3 = [mlp.weights_norms[i][2] for i in range(len(x))]\n",
    "w4 = [mlp.weights_norms[i][3] for i in range(len(x))]\n",
    "\n",
    "fig, ax = plt.subplots()\n",
    "\n",
    "ax.plot(x,w1, label='Normy wag na 1 warstwie')\n",
    "ax.plot(x,w2, label='Normy wag na 2 warstwie')\n",
    "ax.plot(x,w3, label='Normy wag na 3 warstwie')\n",
    "ax.plot(x,w4, label='Normy wag na 4 warstwie')\n",
    "\n",
    "ax.set_title('Zmiana norm wag z biegiem epok')\n",
    "ax.legend()\n",
    "plt.show()"
   ]
  },
  {
   "cell_type": "code",
   "execution_count": 29,
   "id": "70bd5ffc",
   "metadata": {},
   "outputs": [
    {
     "data": {
      "image/png": "[encoded data removed]",
      "text/plain": [
       "<Figure size 432x288 with 1 Axes>"
      ]
     },
     "metadata": {
      "needs_background": "light"
     },
     "output_type": "display_data"
    }
   ],
   "source": [
    "x = [i for i in range(1, 4*1000*20)]\n",
    "b1 = [mlp.biases_norms[i][0] for i in range(len(x))]\n",
    "b2 = [mlp.biases_norms[i][1] for i in range(len(x))]\n",
    "b3 = [mlp.biases_norms[i][2] for i in range(len(x))]\n",
    "b4 = [mlp.biases_norms[i][3] for i in range(len(x))]\n",
    "\n",
    "fig, ax = plt.subplots()\n",
    "\n",
    "ax.plot(x,b1, label='Normy biasow na 1 warstwie')\n",
    "ax.plot(x,b2, label='Normy biasow na 2 warstwie')\n",
    "ax.plot(x,b3, label='Normy biasow na 3 warstwie')\n",
    "ax.plot(x,b4, label='Normy biasow na 4 warstwie')\n",
    "\n",
    "ax.set_title('Zmiana norm biasow z biegiem epok')\n",
    "ax.legend()\n",
    "plt.show()"
   ]
  },
  {
   "cell_type": "markdown",
   "id": "ac4bbe4a",
   "metadata": {},
   "source": [
    "Bez batchow"
   ]
  },
  {
   "cell_type": "code",
   "execution_count": 30,
   "id": "c6424455",
   "metadata": {},
   "outputs": [],
   "source": [
    "np.random.seed(9)\n",
    "mlp = MLP([1,10,10,10,1], sigmoid, sigmoid_derivative)"
   ]
  },
  {
   "cell_type": "code",
   "execution_count": 31,
   "id": "42bee419",
   "metadata": {},
   "outputs": [
    {
     "name": "stdout",
     "output_type": "stream",
     "text": [
      "0\n",
      "Train MSE:  5185.438334887474\n",
      "Test MSE:  5231.1018891141075\n",
      "1\n",
      "Train MSE:  5178.117835136117\n",
      "Test MSE:  5222.751722328196\n",
      "2\n",
      "Train MSE:  5177.298466717551\n",
      "Test MSE:  5221.587950020988\n",
      "3\n",
      "Train MSE:  5177.20631750226\n",
      "Test MSE:  5221.380631967138\n"
     ]
    }
   ],
   "source": [
    "mse_train_list_nobatches=[]\n",
    "mse_test_list_nobatches=[]\n",
    "\n",
    "for i in range(4):\n",
    "    print(i)\n",
    "    mse_train, mse_test = mlp.train(x_train, y_train, x_test, y_test, 100, 0.001)\n",
    "    print('Train MSE: ', mse_train[-1])\n",
    "    print('Test MSE: ', mse_test[-1])\n",
    "    mse_train_list_nobatches.append(mse_train)\n",
    "    mse_test_list_nobatches.append(mse_test)"
   ]
  },
  {
   "cell_type": "markdown",
   "id": "17a1aaf9",
   "metadata": {},
   "source": [
    "Porownanie szybkosci uczenia"
   ]
  },
  {
   "cell_type": "code",
   "execution_count": 32,
   "id": "0b5f3bd4",
   "metadata": {},
   "outputs": [
    {
     "data": {
      "image/png": "[encoded data removed]",
      "text/plain": [
       "<Figure size 1080x360 with 2 Axes>"
      ]
     },
     "metadata": {
      "needs_background": "light"
     },
     "output_type": "display_data"
    }
   ],
   "source": [
    "unnested_mse_train_list = list(chain.from_iterable(mse_train_list))\n",
    "unnested_mse_test_list = list(chain.from_iterable(mse_test_list))\n",
    "unnested_mse_train_list_nobatches = list(chain.from_iterable(mse_train_list_nobatches))\n",
    "unnested_mse_test_list_nobatches = list(chain.from_iterable(mse_test_list_nobatches))\n",
    "\n",
    "\n",
    "fig, axs = plt.subplots(1,2, figsize=(15, 5))\n",
    "\n",
    "x1 = np.arange(0, len(unnested_mse_train_list))\n",
    "axs[0].plot(x1, unnested_mse_train_list)\n",
    "axs[0].plot(x1, unnested_mse_test_list)\n",
    "axs[0].set_title('Szybkosc uczenia z batchami')\n",
    "axs[0].set_ylabel('MSE')\n",
    "\n",
    "x1 = np.arange(0, len(unnested_mse_train_list_nobatches))\n",
    "axs[1].plot(x1, unnested_mse_train_list_nobatches)\n",
    "axs[1].plot(x1, unnested_mse_test_list_nobatches)\n",
    "axs[1].set_title('Szybkosc uczenia z bez batchow')\n",
    "axs[1].set_ylabel('MSE')\n",
    "\n",
    "plt.show()"
   ]
  }
 ],
 "metadata": {
  "kernelspec": {
   "display_name": "Python 3 (ipykernel)",
   "language": "python",
   "name": "python3"
  },
  "language_info": {
   "codemirror_mode": {
    "name": "ipython",
    "version": 3
   },
   "file_extension": ".py",
   "mimetype": "text/x-python",
   "name": "python",
   "nbconvert_exporter": "python",
   "pygments_lexer": "ipython3",
   "version": "3.9.12"
  }
 },
 "nbformat": 4,
 "nbformat_minor": 5
}
